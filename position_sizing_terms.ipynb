{
 "cells": [
  {
   "cell_type": "markdown",
   "metadata": {},
   "source": [
    "# Volatility and Maximum Drawdown\n",
    "\n",
    "In this notebook, you will learn how to calculate volatility and maximum drawdown. The notebook is divided into the following parts.\n",
    "\n",
    "1. [Read Price Data](#read)\n",
    "2. [Calculate Volatility](#volatility)\n",
    "3. [Calculate Drawdown](#drawdown)"
   ]
  },
  {
   "cell_type": "markdown",
   "metadata": {},
   "source": [
    "### Import libraries"
   ]
  },
  {
   "cell_type": "code",
   "execution_count": 1,
   "metadata": {},
   "outputs": [],
   "source": [
    "# For the data manipulation\n",
    "import numpy as np \n",
    "import pandas as pd\n",
    "\n",
    "# For plotting \n",
    "import matplotlib.pyplot as plt \n",
    "%matplotlib inline \n",
    "plt.style.use('seaborn-darkgrid')"
   ]
  },
  {
   "cell_type": "markdown",
   "metadata": {},
   "source": [
    "<a id='read'></a>\n",
    "### Read Price Data\n",
    "\n",
    "The closing price of SPY EFT and TSLA stock are stored in a CSV file in a CSV file. This is the daily data starting from 2015-01-01 to 2021-01-01. You can view the data in folder '**data_modules**' . Alternatively, you can also download the price data from Yahoo! Finance.\n",
    "\n",
    "To read the csv file, you can use the `read_csv` method of pandas. The syntax is shown below.\n",
    "\n",
    "Syntax:\n",
    "```Python\n",
    "import pandas as pd\n",
    "pd.read_csv(filename, index_col)\n",
    "```\n",
    "\n",
    "Parameters:\n",
    "- filename: Name of the file in the string format\n",
    "- index_col: Column number to set as index\n",
    "\n",
    "Returns:\n",
    "- Dataframe"
   ]
  },
  {
   "cell_type": "code",
   "execution_count": 12,
   "metadata": {},
   "outputs": [
    {
     "data": {
      "text/html": [
       "<div>\n",
       "<style scoped>\n",
       "    .dataframe tbody tr th:only-of-type {\n",
       "        vertical-align: middle;\n",
       "    }\n",
       "\n",
       "    .dataframe tbody tr th {\n",
       "        vertical-align: top;\n",
       "    }\n",
       "\n",
       "    .dataframe thead th {\n",
       "        text-align: right;\n",
       "    }\n",
       "</style>\n",
       "<table border=\"1\" class=\"dataframe\">\n",
       "  <thead>\n",
       "    <tr style=\"text-align: right;\">\n",
       "      <th></th>\n",
       "      <th>SPY</th>\n",
       "      <th>TSLA</th>\n",
       "    </tr>\n",
       "    <tr>\n",
       "      <th>Date</th>\n",
       "      <th></th>\n",
       "      <th></th>\n",
       "    </tr>\n",
       "  </thead>\n",
       "  <tbody>\n",
       "    <tr>\n",
       "      <th>2014-12-31</th>\n",
       "      <td>205.539993</td>\n",
       "      <td>44.481998</td>\n",
       "    </tr>\n",
       "    <tr>\n",
       "      <th>2015-01-02</th>\n",
       "      <td>205.429993</td>\n",
       "      <td>43.862000</td>\n",
       "    </tr>\n",
       "    <tr>\n",
       "      <th>2015-01-05</th>\n",
       "      <td>201.720001</td>\n",
       "      <td>42.018002</td>\n",
       "    </tr>\n",
       "    <tr>\n",
       "      <th>2015-01-06</th>\n",
       "      <td>199.820007</td>\n",
       "      <td>42.256001</td>\n",
       "    </tr>\n",
       "    <tr>\n",
       "      <th>2015-01-07</th>\n",
       "      <td>202.309998</td>\n",
       "      <td>42.189999</td>\n",
       "    </tr>\n",
       "  </tbody>\n",
       "</table>\n",
       "</div>"
      ],
      "text/plain": [
       "                   SPY       TSLA\n",
       "Date                             \n",
       "2014-12-31  205.539993  44.481998\n",
       "2015-01-02  205.429993  43.862000\n",
       "2015-01-05  201.720001  42.018002\n",
       "2015-01-06  199.820007  42.256001\n",
       "2015-01-07  202.309998  42.189999"
      ]
     },
     "execution_count": 12,
     "metadata": {},
     "output_type": "execute_result"
    }
   ],
   "source": [
    "# Read the price data \n",
    "price_data = pd.read_csv('data_modules/price_data_2010_2021.csv', index_col=0)\n",
    "\n",
    "# Convert the index to dataframe \n",
    "price_data.index = pd.to_datetime(price_data.index)\n",
    "\n",
    "price_data.head()"
   ]
  },
  {
   "cell_type": "code",
   "execution_count": null,
   "metadata": {},
   "outputs": [],
   "source": []
  }
 ],
 "metadata": {
  "interpreter": {
   "hash": "e774977668b7c0ae8309835a5187aa7fbf7669e7d0bb59755bc63e573643edcd"
  },
  "kernelspec": {
   "display_name": "Python 3.7.9 64-bit",
   "language": "python",
   "name": "python3"
  },
  "language_info": {
   "codemirror_mode": {
    "name": "ipython",
    "version": 3
   },
   "file_extension": ".py",
   "mimetype": "text/x-python",
   "name": "python",
   "nbconvert_exporter": "python",
   "pygments_lexer": "ipython3",
   "version": "3.7.9"
  },
  "orig_nbformat": 4
 },
 "nbformat": 4,
 "nbformat_minor": 2
}
